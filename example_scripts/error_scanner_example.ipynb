{
 "cells": [
  {
   "cell_type": "markdown",
   "id": "0992ca04",
   "metadata": {},
   "source": [
    "## Example script to run the Error-Scanner AI tool via API\n",
    "\n",
    "This example retrieve metadata from the WDI – Environment collection and detects evidently incorrect, inconsistent, or contradictory information.\n",
    "\n",
    "UI - https://w1lxscirender02.worldbank.org:8082/ai_for_data_playground"
   ]
  },
  {
   "cell_type": "code",
   "execution_count": 1,
   "id": "33009e63",
   "metadata": {},
   "outputs": [],
   "source": [
    "import re\n",
    "import json\n",
    "import time\n",
    "import math\n",
    "import requests\n",
    "import pandas as pd\n",
    "from tqdm import tqdm\n",
    "from dotenv import load_dotenv\n",
    "from gradio_client import Client, handle_file"
   ]
  },
  {
   "cell_type": "code",
   "execution_count": 2,
   "id": "e50af55b",
   "metadata": {},
   "outputs": [],
   "source": [
    "load_dotenv()\n",
    "ME_API_KEY = os.getenv(\"ME_API_KEY\")\n",
    "ME_URL = 'https://metadataeditor.worldbank.org/index.php'\n",
    "ME_HEADERS = {\"X-API-KEY\": ME_API_KEY}"
   ]
  },
  {
   "cell_type": "code",
   "execution_count": 3,
   "id": "0504366f",
   "metadata": {},
   "outputs": [],
   "source": [
    "# define functions for Metadata Editor operations\n",
    "def fetch_me_collection_list():\n",
    "    \"\"\"\n",
    "    Fetch collection list from the Metadata Editor.\n",
    "    \"\"\"\n",
    "    response = requests.get(f\"{ME_URL}/api/collections\", headers=ME_HEADERS)\n",
    "    response.raise_for_status()\n",
    "    collection_list = [f\"[{collection['id']}] {collection['title']}\" for collection in response.json()['collections']]\n",
    "    collection_list = sorted(collection_list, key=lambda s: int(re.search(r\"\\[(\\d+)\\]\", s).group(1)) if re.search(r\"\\[(\\d+)\\]\", s) else float(\"inf\"))\n",
    "    return collection_list\n",
    "\n",
    "def fetch_me_project_list(collection):\n",
    "    \"\"\"\n",
    "    Fetch project list from the Metadata Editor.\n",
    "    \"\"\"\n",
    "    collection_id = re.search(r\"\\[(\\d+)\\]\", collection).group(1)\n",
    "    search_params = []\n",
    "    search_params.append(f\"collection={collection_id}\")   \n",
    "    probe_params = search_params.copy()\n",
    "    probe_params.append(f\"offset=0&limit=1\")\n",
    "    response = requests.get(f\"{ME_URL}/api/editor/?{'&'.join(probe_params)}\", headers=ME_HEADERS)\n",
    "    total_cases = response.json().get(\"total\", 0)\n",
    "    limit = 500\n",
    "    project_list = []\n",
    "    num_pages = math.ceil(total_cases / limit) if limit else 0\n",
    "    for offset in tqdm(range(0, total_cases, limit), total=num_pages):\n",
    "        search_more_params = search_params.copy()\n",
    "        search_more_params.append(f\"offset={offset}&limit={limit}\")\n",
    "        response = requests.get(f\"{ME_URL}/api/editor/?{'&'.join(search_more_params)}\", headers=ME_HEADERS)\n",
    "        if response.status_code != 200:\n",
    "            raise Exception(f\"Something wrong with the Metadata Editor search: {response.text}\")\n",
    "        data = response.json()\n",
    "        project_list.extend(data.get(\"projects\", []))\n",
    "\n",
    "    project_title_list = [f\"[{project['id']}] {project['title']}\" for project in project_list]\n",
    "    project_title_list = sorted(project_title_list, key=lambda s: int(re.search(r\"\\[(\\d+)\\]\", s).group(1)) if re.search(r\"\\[(\\d+)\\]\", s) else float(\"inf\"))\n",
    "    default_value = project_title_list[0] if project_title_list else None\n",
    "    return project_title_list\n",
    "\n",
    "def fetch_me_project_metadata(project):\n",
    "    \"\"\"\n",
    "    Fetch project metadata from the Metadata Editor.\n",
    "    \"\"\"\n",
    "    project_id = re.search(r\"\\[(\\d+)\\]\", project).group(1)\n",
    "    response = requests.get(f\"{ME_URL}/api/editor/{project_id}\", headers=ME_HEADERS)\n",
    "    if response.status_code != 200:\n",
    "        raise Exception(f\"Something wrong with the Metadata Editor search: {response.text}\")\n",
    "    metadata = response.json()['project']['metadata']\n",
    "    metadata.get(\"series_description\", {}).pop(\"ref_country\", None)\n",
    "    metadata.get(\"series_description\", {}).pop(\"geographic_units\", None)\n",
    "    return metadata"
   ]
  },
  {
   "cell_type": "code",
   "execution_count": 4,
   "id": "b1126f0b",
   "metadata": {},
   "outputs": [],
   "source": [
    "# define a function to wait for a job and get the outputs\n",
    "def wait_for_job_outputs(job):\n",
    "    while job.done() != True:\n",
    "        time.sleep(0.5)\n",
    "    return job.outputs()"
   ]
  },
  {
   "cell_type": "code",
   "execution_count": 5,
   "id": "d893f86f",
   "metadata": {},
   "outputs": [],
   "source": [
    "# define a function to extract JSON from the output text\n",
    "def extract_json(text):\n",
    "    idx = text.rfind(\"----------\")\n",
    "    text = text[idx:]\n",
    "    match = re.search(r'(\\{.*\\}|\\[.*\\])', text, re.DOTALL)    \n",
    "    if match:\n",
    "        try:\n",
    "            data = json.loads(match.group(1))\n",
    "            return data\n",
    "        except json.JSONDecodeError:\n",
    "            return None\n",
    "    return None"
   ]
  },
  {
   "cell_type": "code",
   "execution_count": 6,
   "id": "253e9895",
   "metadata": {},
   "outputs": [
    {
     "name": "stdout",
     "output_type": "stream",
     "text": [
      "Loaded as API: https://w1lxscirender02.worldbank.org:8082/ai_for_data_playground/ ✔\n"
     ]
    }
   ],
   "source": [
    "# create a Gradio client instance\n",
    "gradio_client = Client(\"https://w1lxscirender02.worldbank.org:8082/ai_for_data_playground\", ssl_verify=False)"
   ]
  },
  {
   "cell_type": "code",
   "execution_count": 7,
   "id": "dc64d4c9",
   "metadata": {},
   "outputs": [],
   "source": [
    "# load agents manifest\n",
    "job = gradio_client.submit(\n",
    "\tfile_name=\"default_agents_manifest.yml\",\n",
    "\tapi_name=\"/error_scanner__load_agents_manifest\"\n",
    ")\n",
    "outputs = wait_for_job_outputs(job)\n",
    "agents_manifest = outputs[0][0]"
   ]
  },
  {
   "cell_type": "code",
   "execution_count": 8,
   "id": "814ffb9f",
   "metadata": {},
   "outputs": [],
   "source": [
    "# create agents\n",
    "job = gradio_client.submit(\n",
    "\tagents_manifest=agents_manifest,\n",
    "\tgpt_model=\"gpt-5-mini\",\n",
    "\tapi_name=\"/error_scanner__create_agents\"\n",
    ")\n",
    "outputs = wait_for_job_outputs(job)"
   ]
  },
  {
   "cell_type": "code",
   "execution_count": 9,
   "id": "abbde502",
   "metadata": {},
   "outputs": [
    {
     "name": "stderr",
     "output_type": "stream",
     "text": [
      "100%|██████████| 1/1 [00:03<00:00,  3.10s/it]\n"
     ]
    }
   ],
   "source": [
    "me_collection = \"[5] WDI - Environment\"\n",
    "me_project_list = fetch_me_project_list(me_collection)"
   ]
  },
  {
   "cell_type": "code",
   "execution_count": null,
   "id": "23dae586",
   "metadata": {},
   "outputs": [
    {
     "name": "stderr",
     "output_type": "stream",
     "text": [
      "100%|██████████| 143/143 [3:06:59<00:00, 78.46s/it]   \n"
     ]
    }
   ],
   "source": [
    "output_file_name = \"WDI_Environment_detected_metadata_issues.xlsx\"\n",
    "\n",
    "if os.path.exists(output_file_name):\n",
    "    df_detected_issues = pd.read_excel(output_file_name)\n",
    "else:\n",
    "    column_names = ['ME_collection', 'ME_project', 'ME_url', 'detected_issues']\n",
    "    df_detected_issues = pd.DataFrame(columns=column_names)\n",
    "\n",
    "for me_project in tqdm(me_project_list):\n",
    "    if (df_detected_issues['ME_project'] == me_project).any():\n",
    "        continue\n",
    "\n",
    "    # fetch metadata\n",
    "    metadata_to_scan = fetch_me_project_metadata(me_project)\n",
    "\n",
    "    # start agents activity\n",
    "    job = gradio_client.submit(\n",
    "        metadata_to_scan=metadata_to_scan,\n",
    "        api_name=\"/error_scanner__start_agents_activity\"\n",
    "    )\n",
    "    outputs = wait_for_job_outputs(job)\n",
    "\n",
    "    try:\n",
    "        # record the detected issue\n",
    "        project_id = re.search(r\"\\[(\\d+)\\]\", me_project).group(1)\n",
    "        me_url = f\"https://metadataeditor.worldbank.org/index.php/api/editor/{project_id}\"\n",
    "        json_text = \"[\\n    \" + \",\\n    \".join(json.dumps(obj, ensure_ascii=False) for obj in extract_json(outputs[-1][0])) + \"\\n]\"\n",
    "        df_detected_issues.loc[len(df_detected_issues)] = [\n",
    "            me_collection,\n",
    "            me_project,\n",
    "            me_url,\n",
    "            json_text\n",
    "        ]\n",
    "        df_detected_issues.to_excel(output_file_name, index=False)\n",
    "    except Exception as e:\n",
    "        print(f\"[Warning] Failed to record detected issue for project: {me_project}. Reason: {e}\")\n",
    "        continue\n"
   ]
  },
  {
   "cell_type": "code",
   "execution_count": null,
   "id": "94963cd5",
   "metadata": {},
   "outputs": [],
   "source": []
  }
 ],
 "metadata": {
  "kernelspec": {
   "display_name": "ai_for_data",
   "language": "python",
   "name": "python3"
  },
  "language_info": {
   "codemirror_mode": {
    "name": "ipython",
    "version": 3
   },
   "file_extension": ".py",
   "mimetype": "text/x-python",
   "name": "python",
   "nbconvert_exporter": "python",
   "pygments_lexer": "ipython3",
   "version": "3.11.13"
  }
 },
 "nbformat": 4,
 "nbformat_minor": 5
}
